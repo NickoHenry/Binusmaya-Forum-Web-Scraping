{
 "cells": [
  {
   "cell_type": "code",
   "execution_count": 1,
   "metadata": {},
   "outputs": [],
   "source": [
    "# Library\n",
    "import time\n",
    "import pandas as pd\n",
    "from getpass import getpass\n",
    "from selenium import webdriver\n",
    "from selenium.webdriver.common.by import By\n",
    "from selenium.webdriver.common.action_chains import ActionChains"
   ]
  },
  {
   "cell_type": "code",
   "execution_count": 2,
   "metadata": {},
   "outputs": [
    {
     "data": {
      "text/plain": [
       "'https://newbinusmaya.binus.ac.id/login'"
      ]
     },
     "execution_count": 2,
     "metadata": {},
     "output_type": "execute_result"
    }
   ],
   "source": [
    "loginPage = \"https://newbinusmaya.binus.ac.id/login\"\n",
    "loginPage"
   ]
  },
  {
   "cell_type": "code",
   "execution_count": 3,
   "metadata": {},
   "outputs": [],
   "source": [
    "inputEmail = input(\"Enter Binusian Email : \")\n",
    "inputEmail += \"@binus.ac.id\"\n",
    "\n",
    "inputPassword = getpass(\"Enter Password : \")"
   ]
  },
  {
   "cell_type": "code",
   "execution_count": 4,
   "metadata": {},
   "outputs": [],
   "source": [
    "driver = webdriver.Chrome()\n",
    "driver.get(loginPage)\n",
    "driver.maximize_window()\n",
    "\n",
    "time.sleep(1)\n",
    "\n",
    "driver.find_element(By.CLASS_NAME, 'button--azure--ad').click()\n",
    "\n",
    "time.sleep(2)\n",
    "\n",
    "email = driver.find_element(By.ID, \"i0116\")\n",
    "email.send_keys(inputEmail)\n",
    "\n",
    "time.sleep(1)\n",
    "\n",
    "driver.find_element(By.ID, \"idSIButton9\").click()\n",
    "\n",
    "time.sleep(2)\n",
    "\n",
    "password = driver.find_element(By.ID, \"i0118\")\n",
    "password.send_keys(inputPassword)\n",
    "\n",
    "time.sleep(1)\n",
    "\n",
    "driver.find_element(By.ID, \"idSIButton9\").click()\n",
    "\n",
    "time.sleep(3)\n",
    "\n",
    "driver.find_element(By.ID, \"idSIButton9\").click()\n",
    "\n",
    "time.sleep(3)\n",
    "\n",
    "driver.find_element(By.LINK_TEXT, \"Forum\").click()\n",
    "\n",
    "time.sleep(3)\n",
    "\n",
    "driver.find_element(By.LINK_TEXT, \"LEC\").click()"
   ]
  },
  {
   "cell_type": "code",
   "execution_count": 5,
   "metadata": {},
   "outputs": [
    {
     "name": "stdout",
     "output_type": "stream",
     "text": [
      "['Compilation Techniques', 'Computer Vision', 'Deep Learning', 'Embedded Systems', 'Entrepreneurship: Market Validation', 'Information Retrieval', 'Operating System', 'Web Programming']\n"
     ]
    }
   ],
   "source": [
    "time.sleep(3)\n",
    "all_subject = driver.find_elements(By.XPATH, \"//h3[@class='item title']\")\n",
    "\n",
    "all = []\n",
    "for i in all_subject:\n",
    "    all.append(i.text)\n",
    "\n",
    "print(all)"
   ]
  },
  {
   "cell_type": "code",
   "execution_count": 6,
   "metadata": {},
   "outputs": [],
   "source": [
    "description_list = []\n",
    "matkul_list = []\n",
    "deadline_list = []\n",
    "start_list = []"
   ]
  },
  {
   "cell_type": "code",
   "execution_count": 7,
   "metadata": {},
   "outputs": [],
   "source": [
    "action = ActionChains(driver)\n",
    "\n",
    "for i in all:\n",
    "   try:\n",
    "      driver.find_element(By.LINK_TEXT, i).click()\n",
    "\n",
    "      time.sleep(3)\n",
    "      \n",
    "      element = driver.find_element(By.CLASS_NAME, 'author-label')\n",
    "      action.move_to_element(element)\n",
    "      action.move_by_offset(0, 50)\n",
    "      action.click()\n",
    "      action.perform()\n",
    "\n",
    "      #ambil deadline\n",
    "      deadline = driver.find_elements(By.CLASS_NAME, 'text-forum-info')\n",
    "      start_list.append(deadline[0].text)\n",
    "      deadline_list.append(deadline[1].text)\n",
    "      #end of ambil deadline\n",
    "\n",
    "      time.sleep(3)\n",
    "\n",
    "      desc = driver.find_element(By.CLASS_NAME, 'content-container').text\n",
    "      time.sleep(2)\n",
    "      description_list.append(desc)\n",
    "      time.sleep(1)\n",
    "\n",
    "      driver.find_element(By.CLASS_NAME, \"cursor-pointer\").click()\n",
    "      time.sleep(2)\n",
    "   except:\n",
    "      start_list.append(\"NaN\")\n",
    "      deadline_list.append(\"NaN\")\n",
    "      description_list.append(\"NaN\")\n",
    "   \n",
    "   \n",
    "   driver.find_element(By.CLASS_NAME, \"cursor-pointer\").click()\n",
    "   time.sleep(2)\n",
    "   driver.find_element(By.LINK_TEXT, \"LEC\").click()\n",
    "\n",
    "   time.sleep(2)\n",
    "   "
   ]
  },
  {
   "cell_type": "code",
   "execution_count": 8,
   "metadata": {},
   "outputs": [
    {
     "name": "stdout",
     "output_type": "stream",
     "text": [
      "['Contoh Soal tipe A', 'Silakan di download dan dipelajari ya.\\n thanks,\\n Richard Anderson\\nJawaban TIPE A - UAS2021Ganjil - COMP6062 - Compilation Technics - D2749']\n",
      "['Object Detection', 'Silahkan pelajari mengenai object detection yang ada pada slide. Kemudian, silahkan tuliskan pada forum ini 1 buah metode lain untuk object detection yang belum ada pada slides. Untuk metode yang ditulis pada forum harus berbeda untuk setiap mahasiswa. Silahkan cek jawaban rekan kalian terlebih dahulu sebelum submit jawaban kalian.\\n Good Luck!\\n NB: metode dengan versi berbeda dianggap metode yang berbeda']\n",
      "['COMP6587-DEEP LEARNING Lecturer : D0434-Dr. Ir. Haryono Soeparno, M.Sc Class : LD01; GSLC-03; Individual Assignment No-3', 'Consider the Neural Voice Puppetry as part of PPT Session 12 in Binusmaya.\\nNeural Voice Puppetry is a Deep Learning model which input is a speech (audio) and the output is a video that simulates a person speaking the speech.\\nGiven an audio sequence of a source person or digital assistant, it can be generated a photo-realistic output video of a target person that is in sync with the audio of the source input. This audio-driven facial reenactment is driven by a deep neural network that employs a latent 3D face model space. Through the underlying 3D representation, the model inherently learns temporal stability while we leverage neural rendering to generate photo-realistic output frames.\\nQuestion :\\nSearch some relevant references and read the concept and application of Neural Voice Puppetry. Then, write an article (in English or Bahasa Indonesia) with a title “Neural Voice Puppetry and Its Applications”, for 5-7 pages together with references.\\n ### End of Individual Assignment-03 ###\\n Note :\\n1. Write your name, student ID at the top of your answer sheet\\n2. Upload at FORUM Binusmaya and also send to my email : haryono@binus.edu, before, 13 January 2022, 23.59\\nWrite the SUBJECT in your email :\\n“COMP6587-DEEP LEARNING - GSLC-03 - Individual Assignment-03 - your name - your NIM”\\n3. Write your File Name :\\n“your name – GSLC-03 - Individual Assignment-03”\\n ']\n",
      "['IOT INDUSTRIAL', 'Hai rekan-rekan mahasiswa,\\n Saya harap dalam pembelajaran GSLC pertemuan ke-12 kemarin, teman-teman sudah membaca beberapa link yang tersedia pada materi power point dan materi tambahan di Binusmaya. Dibawah ini saya tambahkan beberapa link website yang dapat teman-teman jadikan bahan pembelajaran terkait bagaimana IoT menjadi salah satu faktor transformasi digital saat ini di dunia industri. Mohon teman-teman mahasiswa dapat membacanya dan menjadi bekal untuk menambah wawasan.\\n Link 1 : https://www.i-scoop.eu/digital-transformation/digital-transformation-technologies-iot/\\nLink 2 : https://e.huawei.com/en/publications/global/ict_insights/201711060837/solutions/201712121546\\nLink 3 : https://www.iotsens.com/what-role-does-the-iot-play-in-the-digital-transformation-process/\\n Jika ada kendala terhadap linknya, dapat menginformasikannya ke saya ya. Dan untuk sesi GSLC ini tidak ada tugas lagi, saya berharap teman-teman dapat mempersiapkan ujian akhir dengan sebaik-baiknya.\\nTerima kasih.']\n",
      "['NaN']\n",
      "[\"Additional Slide (today's session)\", \"Additional Slide (today's session): https://www.slideshare.net/BhaskarMitra3/a-simple-introduction-to-word-embeddings\"]\n",
      "['Virtual memory', '1. Basic Algorithms replacement (virtual memory)\\n - Optimal:\\nhttps://www.youtube.com/watch?v=XmdgDHhx0fg\\n- Least recently used (LRU)\\nhttps://www.youtube.com/watch?v=4wVp97-uqr0&t=278s\\n- First-in-first-out (FIFO)\\nhttps://www.youtube.com/watch?v=UTXkbcJUY74\\n- Clock\\nhttps://www.youtube.com/watch?v=J0qUiGoUqjc\\n 2. resident set Management\\nThe main difference between resident set management and page replacement policy:\\n In resident set management the operating system must decide how much main memory to allocate to a particular process when that process is swapped in. This can be a static allocation made at process creation time, or it can change dynamically.\\n In page replacement policy when the memory is full, a decision must be made as to which page or pages are to be replaced. The page replacement policy determining where the page should be load, and how the page load, and what type of algorithm should be used to load a page.\\n ref:https://cpentalk.com/322/difference-between-resident-management-replacement-policy\\n  3. Virtual memory:\\n- linux : page directory, Page middle, page table\\n- unix :\\nThe page frame data table is used for page replacement\\nPointers are used to create lists within the table\\n- window : Available, reserved, commited\\n- android: no support virtual memory\\n tugasnya:\\n1. mencari reference lainya, dan pahami secara mandiri. diskusikanlah!']\n",
      "['NaN']\n"
     ]
    }
   ],
   "source": [
    "title_list = []\n",
    "content_list = []\n",
    "\n",
    "for text in description_list:\n",
    "    data = text.split(\"\\n\", 1)\n",
    "    print(data)\n",
    "\n",
    "    title_list.append(data[0])\n",
    "    if(data[0] == \"NaN\"):\n",
    "        content_list.append(\"NaN\")\n",
    "    else:\n",
    "        content_list.append(data[1].replace(\"\\n\", \"\\n\\n\"))"
   ]
  },
  {
   "cell_type": "code",
   "execution_count": 9,
   "metadata": {},
   "outputs": [
    {
     "data": {
      "text/plain": [
       "['Compilation Techniques',\n",
       " 'Computer Vision',\n",
       " 'Deep Learning',\n",
       " 'Embedded Systems',\n",
       " 'Entrepreneurship: Market Validation',\n",
       " 'Information Retrieval',\n",
       " 'Operating System',\n",
       " 'Web Programming']"
      ]
     },
     "execution_count": 9,
     "metadata": {},
     "output_type": "execute_result"
    }
   ],
   "source": [
    "all"
   ]
  },
  {
   "cell_type": "code",
   "execution_count": 10,
   "metadata": {},
   "outputs": [
    {
     "data": {
      "text/html": [
       "<div>\n",
       "<style scoped>\n",
       "    .dataframe tbody tr th:only-of-type {\n",
       "        vertical-align: middle;\n",
       "    }\n",
       "\n",
       "    .dataframe tbody tr th {\n",
       "        vertical-align: top;\n",
       "    }\n",
       "\n",
       "    .dataframe thead th {\n",
       "        text-align: right;\n",
       "    }\n",
       "</style>\n",
       "<table border=\"1\" class=\"dataframe\">\n",
       "  <thead>\n",
       "    <tr style=\"text-align: right;\">\n",
       "      <th></th>\n",
       "      <th>Matkul</th>\n",
       "      <th>Start Date</th>\n",
       "      <th>End Date</th>\n",
       "      <th>Title</th>\n",
       "      <th>Content</th>\n",
       "    </tr>\n",
       "  </thead>\n",
       "  <tbody>\n",
       "    <tr>\n",
       "      <th>0</th>\n",
       "      <td>Compilation Techniques</td>\n",
       "      <td>07 Jan 2022, 00:00 GMT+7</td>\n",
       "      <td>14 Jan 2022, 23:59 GMT+7</td>\n",
       "      <td>Contoh Soal tipe A</td>\n",
       "      <td>Silakan di download dan dipelajari ya.\\n\\n tha...</td>\n",
       "    </tr>\n",
       "    <tr>\n",
       "      <th>1</th>\n",
       "      <td>Computer Vision</td>\n",
       "      <td>05 Jan 2022, 00:00 GMT+7</td>\n",
       "      <td>12 Jan 2022, 23:59 GMT+7</td>\n",
       "      <td>Object Detection</td>\n",
       "      <td>Silahkan pelajari mengenai object detection ya...</td>\n",
       "    </tr>\n",
       "    <tr>\n",
       "      <th>2</th>\n",
       "      <td>Deep Learning</td>\n",
       "      <td>06 Jan 2022, 00:00 GMT+7</td>\n",
       "      <td>13 Jan 2022, 23:59 GMT+7</td>\n",
       "      <td>COMP6587-DEEP LEARNING Lecturer : D0434-Dr. Ir...</td>\n",
       "      <td>Consider the Neural Voice Puppetry as part of ...</td>\n",
       "    </tr>\n",
       "    <tr>\n",
       "      <th>3</th>\n",
       "      <td>Embedded Systems</td>\n",
       "      <td>06 Jan 2022, 00:00 GMT+7</td>\n",
       "      <td>13 Jan 2022, 23:59 GMT+7</td>\n",
       "      <td>IOT INDUSTRIAL</td>\n",
       "      <td>Hai rekan-rekan mahasiswa,\\n\\n Saya harap dala...</td>\n",
       "    </tr>\n",
       "    <tr>\n",
       "      <th>4</th>\n",
       "      <td>Entrepreneurship: Market Validation</td>\n",
       "      <td>NaN</td>\n",
       "      <td>NaN</td>\n",
       "      <td>NaN</td>\n",
       "      <td>NaN</td>\n",
       "    </tr>\n",
       "    <tr>\n",
       "      <th>5</th>\n",
       "      <td>Information Retrieval</td>\n",
       "      <td>07 Jan 2022, 00:00 GMT+7</td>\n",
       "      <td>07 Jan 2022, 23:59 GMT+7</td>\n",
       "      <td>Additional Slide (today's session)</td>\n",
       "      <td>Additional Slide (today's session): https://ww...</td>\n",
       "    </tr>\n",
       "    <tr>\n",
       "      <th>6</th>\n",
       "      <td>Operating System</td>\n",
       "      <td>08 Jan 2022, 00:00 GMT+7</td>\n",
       "      <td>08 Jan 2022, 23:59 GMT+7</td>\n",
       "      <td>Virtual memory</td>\n",
       "      <td>1. Basic Algorithms replacement (virtual memor...</td>\n",
       "    </tr>\n",
       "    <tr>\n",
       "      <th>7</th>\n",
       "      <td>Web Programming</td>\n",
       "      <td>NaN</td>\n",
       "      <td>NaN</td>\n",
       "      <td>NaN</td>\n",
       "      <td>NaN</td>\n",
       "    </tr>\n",
       "  </tbody>\n",
       "</table>\n",
       "</div>"
      ],
      "text/plain": [
       "                                Matkul                Start Date  \\\n",
       "0               Compilation Techniques  07 Jan 2022, 00:00 GMT+7   \n",
       "1                      Computer Vision  05 Jan 2022, 00:00 GMT+7   \n",
       "2                        Deep Learning  06 Jan 2022, 00:00 GMT+7   \n",
       "3                     Embedded Systems  06 Jan 2022, 00:00 GMT+7   \n",
       "4  Entrepreneurship: Market Validation                       NaN   \n",
       "5                Information Retrieval  07 Jan 2022, 00:00 GMT+7   \n",
       "6                     Operating System  08 Jan 2022, 00:00 GMT+7   \n",
       "7                      Web Programming                       NaN   \n",
       "\n",
       "                   End Date  \\\n",
       "0  14 Jan 2022, 23:59 GMT+7   \n",
       "1  12 Jan 2022, 23:59 GMT+7   \n",
       "2  13 Jan 2022, 23:59 GMT+7   \n",
       "3  13 Jan 2022, 23:59 GMT+7   \n",
       "4                       NaN   \n",
       "5  07 Jan 2022, 23:59 GMT+7   \n",
       "6  08 Jan 2022, 23:59 GMT+7   \n",
       "7                       NaN   \n",
       "\n",
       "                                               Title  \\\n",
       "0                                 Contoh Soal tipe A   \n",
       "1                                   Object Detection   \n",
       "2  COMP6587-DEEP LEARNING Lecturer : D0434-Dr. Ir...   \n",
       "3                                     IOT INDUSTRIAL   \n",
       "4                                                NaN   \n",
       "5                 Additional Slide (today's session)   \n",
       "6                                     Virtual memory   \n",
       "7                                                NaN   \n",
       "\n",
       "                                             Content  \n",
       "0  Silakan di download dan dipelajari ya.\\n\\n tha...  \n",
       "1  Silahkan pelajari mengenai object detection ya...  \n",
       "2  Consider the Neural Voice Puppetry as part of ...  \n",
       "3  Hai rekan-rekan mahasiswa,\\n\\n Saya harap dala...  \n",
       "4                                                NaN  \n",
       "5  Additional Slide (today's session): https://ww...  \n",
       "6  1. Basic Algorithms replacement (virtual memor...  \n",
       "7                                                NaN  "
      ]
     },
     "execution_count": 10,
     "metadata": {},
     "output_type": "execute_result"
    }
   ],
   "source": [
    "table = pd.DataFrame()\n",
    "\n",
    "table[\"Matkul\"] = all\n",
    "table[\"Start Date\"] = start_list\n",
    "table[\"End Date\"] = deadline_list\n",
    "table[\"Title\"] = title_list\n",
    "table[\"Content\"] = content_list\n",
    "table"
   ]
  },
  {
   "cell_type": "code",
   "execution_count": 11,
   "metadata": {},
   "outputs": [],
   "source": [
    "table.to_excel(\"Result.xlsx\")\n",
    "table.to_csv(\"Result.csv\")"
   ]
  }
 ],
 "metadata": {
  "interpreter": {
   "hash": "5f64f01a6cdb813bd23f3c2980301e513b65108ef9650403b1a46775be8a9390"
  },
  "kernelspec": {
   "display_name": "Python 3.9.7 64-bit ('base': conda)",
   "language": "python",
   "name": "python3"
  },
  "language_info": {
   "codemirror_mode": {
    "name": "ipython",
    "version": 3
   },
   "file_extension": ".py",
   "mimetype": "text/x-python",
   "name": "python",
   "nbconvert_exporter": "python",
   "pygments_lexer": "ipython3",
   "version": "3.9.7"
  },
  "orig_nbformat": 4
 },
 "nbformat": 4,
 "nbformat_minor": 2
}
